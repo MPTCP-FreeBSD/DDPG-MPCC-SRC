{
 "cells": [
  {
   "cell_type": "code",
   "execution_count": 2,
   "metadata": {},
   "outputs": [
    {
     "name": "stderr",
     "output_type": "stream",
     "text": [
      "C:\\Users\\deols\\AppData\\Local\\Temp\\ipykernel_12080\\577654408.py:6: FutureWarning: The default value of regex will change from True to False in a future version.\n",
      "  df1['rate'] = df1['rate'].str.replace('rate ,?' , '')\n",
      "C:\\Users\\deols\\AppData\\Local\\Temp\\ipykernel_12080\\577654408.py:7: FutureWarning: The default value of regex will change from True to False in a future version.\n",
      "  df1['total_rate'] = df1['total_rate'].str.replace('total rate ,?' , '')\n",
      "C:\\Users\\deols\\AppData\\Local\\Temp\\ipykernel_12080\\577654408.py:8: FutureWarning: The default value of regex will change from True to False in a future version.\n",
      "  df1['sequences'] = df1['sequences'].str.replace('sequences ,?' , '')\n",
      "C:\\Users\\deols\\AppData\\Local\\Temp\\ipykernel_12080\\577654408.py:9: FutureWarning: The default value of regex will change from True to False in a future version.\n",
      "  df1['sent'] = df1['sent'].str.replace('sent ,?' , '')\n",
      "C:\\Users\\deols\\AppData\\Local\\Temp\\ipykernel_12080\\577654408.py:13: FutureWarning: The default value of regex will change from True to False in a future version.\n",
      "  df1['util'] = df1['util'].str.replace('util ,?' , '')\n",
      "C:\\Users\\deols\\AppData\\Local\\Temp\\ipykernel_12080\\577654408.py:14: FutureWarning: The default value of regex will change from True to False in a future version.\n",
      "  df1['old_util'] = df1['old_util'].str.replace('old_util ,?' , '')\n",
      "C:\\Users\\deols\\AppData\\Local\\Temp\\ipykernel_12080\\577654408.py:15: FutureWarning: The default value of regex will change from True to False in a future version.\n",
      "  df1['thpt'] = df1['thpt'].str.replace('thpt ,?' , '')\n",
      "C:\\Users\\deols\\AppData\\Local\\Temp\\ipykernel_12080\\577654408.py:16: FutureWarning: The default value of regex will change from True to False in a future version.\n",
      "  df1['lost'] = df1['lost'].str.replace('lost ,?' , '')\n",
      "C:\\Users\\deols\\AppData\\Local\\Temp\\ipykernel_12080\\577654408.py:17: FutureWarning: The default value of regex will change from True to False in a future version.\n",
      "  df1['loss_rate'] = df1['loss_rate'].str.replace('loss rate ,?' , '')\n"
     ]
    }
   ],
   "source": [
    "import matplotlib.pyplot as plt\n",
    "import numpy as np\n",
    "import pandas as pd\n",
    "df1=pd.read_csv(\"rldata.txt\", names=(\"Date_and_Time\", \"Session_Time\",\"rate\",\"total_rate\",\"sequences\",\"sent\",\"lost\",\"util\",\"old_util\",\"thpt\",\"loss_rate\"), index_col=0, parse_dates=True)\n",
    "\n",
    "df1['rate'] = df1['rate'].str.replace('rate ,?' , '')\n",
    "df1['total_rate'] = df1['total_rate'].str.replace('total rate ,?' , '')\n",
    "df1['sequences'] = df1['sequences'].str.replace('sequences ,?' , '')\n",
    "df1['sent'] = df1['sent'].str.replace('sent ,?' , '')\n",
    "\n",
    "\n",
    "\n",
    "df1['util'] = df1['util'].str.replace('util ,?' , '')\n",
    "df1['old_util'] = df1['old_util'].str.replace('old_util ,?' , '')\n",
    "df1['thpt'] = df1['thpt'].str.replace('thpt ,?' , '')\n",
    "df1['lost'] = df1['lost'].str.replace('lost ,?' , '')\n",
    "df1['loss_rate'] = df1['loss_rate'].str.replace('loss rate ,?' , '')\n",
    "\n",
    "\n",
    "\n",
    "\n",
    "df1.to_csv(\"rlinputdata.csv\")"
   ]
  }
 ],
 "metadata": {
  "kernelspec": {
   "display_name": "Python 3.9.13 ('alpha')",
   "language": "python",
   "name": "python3"
  },
  "language_info": {
   "codemirror_mode": {
    "name": "ipython",
    "version": 3
   },
   "file_extension": ".py",
   "mimetype": "text/x-python",
   "name": "python",
   "nbconvert_exporter": "python",
   "pygments_lexer": "ipython3",
   "version": "3.9.13"
  },
  "orig_nbformat": 4,
  "vscode": {
   "interpreter": {
    "hash": "b9f54667d392e999d86850f942804d3a7ff915595fb3847e5d72cf405530be63"
   }
  }
 },
 "nbformat": 4,
 "nbformat_minor": 2
}
